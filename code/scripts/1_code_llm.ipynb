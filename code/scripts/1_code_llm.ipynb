{
 "cells": [
  {
   "cell_type": "markdown",
   "id": "e18e7d21",
   "metadata": {},
   "source": [
    "# LLM for coding"
   ]
  },
  {
   "cell_type": "markdown",
   "id": "ca9d1f7c",
   "metadata": {},
   "source": [
    "In this mini tutorial we will demonstrate how LLM agents can be used effectively for coding.\n",
    "\n",
    "We will use the previous notebook \"loading_example\" to see if with a few prompts LLM can reproduce our code and write tests for it "
   ]
  },
  {
   "cell_type": "code",
   "execution_count": 1,
   "id": "56594a2f",
   "metadata": {},
   "outputs": [],
   "source": [
    "# Data handling packages\n",
    "import numpy as np  \n",
    "import pandas as pd \n",
    "import pynwb  \n",
    "\n",
    "# Plotting libraries\n",
    "import matplotlib.pyplot as plt  \n",
    "\n",
    "# Pandas display settings\n",
    "pd.set_option('display.max_columns', None)  # Ensures all columns are shown when printing DataFrames\n",
    "\n",
    "# Inline plotting for Jupyter Notebooks\n",
    "%matplotlib inline  "
   ]
  },
  {
   "cell_type": "code",
   "execution_count": null,
   "id": "b4eff5db",
   "metadata": {},
   "outputs": [],
   "source": [
    "# pick a session_id and get session data\n",
    "example_session_ids = ['664851_2023-11-15', '668755_2023-08-31', '674562_2023-10-03', '759434_2025-02-04', '713655_2024-08-09']\n",
    "\n",
    "session_id = example_session_ids[2]\n",
    "nwb_path = f'/root/capsule/data/{session_id}/{session_id}.nwb'\n",
    "\n",
    "# access the session data with pynwb\n",
    "session = pynwb.NWBHDF5IO(nwb_path).read()"
   ]
  },
  {
   "cell_type": "markdown",
   "id": "bbe31014",
   "metadata": {},
   "source": [
    "\n",
    "### If you are using ChatGPT UI"
   ]
  },
  {
   "cell_type": "markdown",
   "id": "eb8babea",
   "metadata": {},
   "source": [
    "Let’s begin with a simple example. Following the logic from the previous notebook, our goal is to extract session metadata and organize it into DataFrames.\n",
    "\n",
    "Try the following prompt:\n",
    "\n",
    "```\"Given a session, load the metadata—specifically, the trials and units—into separate DataFrames.\"```"
   ]
  },
  {
   "cell_type": "code",
   "execution_count": null,
   "id": "3dbec431",
   "metadata": {},
   "outputs": [],
   "source": []
  },
  {
   "cell_type": "markdown",
   "id": "e3b41df3",
   "metadata": {},
   "source": [
    "Before accepting the result, evaluate what went wrong. Did we give too little information? "
   ]
  },
  {
   "cell_type": "markdown",
   "id": "e6874273",
   "metadata": {},
   "source": [
    "Try this prompt:\n",
    "\n",
    "```\"You are a neuroscientist helping me analyze data from a recent experiment. The data is organized into multiple sessions, each of which can be loaded using: `session = pynwb.NWBHDF5IO(nwb_path).read()`. From each session, I need to extract metadata—specifically, trials and units—and convert them into separate pandas DataFrames. Write a Python script to accomplish this.\"```"
   ]
  },
  {
   "cell_type": "code",
   "execution_count": null,
   "id": "777856eb",
   "metadata": {},
   "outputs": [],
   "source": []
  },
  {
   "cell_type": "markdown",
   "id": "af4aeca3",
   "metadata": {},
   "source": [
    "Notice how much more specific this prompt is—you can refine it even further. Try the following:\n",
    "\n",
    "```\"You are a neuroscientist helping me analyze data from a recent experiment. The data is organized into multiple sessions, each of which can be loaded with: `session = pynwb.NWBHDF5IO(nwb_path).read()`. I need to extract metadata from a session—specifically, trials and units—and convert them into separate pandas DataFrames. Assume the session is already loaded. Write a concise Python script that performs this task. Do not save the DataFrames to CSV. Return only the script, with no additional explanation.\"```"
   ]
  },
  {
   "cell_type": "code",
   "execution_count": null,
   "id": "84848fa1",
   "metadata": {},
   "outputs": [],
   "source": []
  },
  {
   "cell_type": "markdown",
   "id": "b0633aca",
   "metadata": {},
   "source": [
    "Discuss: Can you think of a shorter prompt to produce the same or similar result? "
   ]
  },
  {
   "cell_type": "markdown",
   "id": "962f8c98",
   "metadata": {},
   "source": [
    "\n",
    "### If you are using Copilot"
   ]
  },
  {
   "cell_type": "markdown",
   "id": "11e3dfb5",
   "metadata": {},
   "source": [
    "Let’s begin with a simple example. Following the logic from the previous notebook, our goal is to extract session metadata and organize it into DataFrames.\n",
    "\n",
    "Try the following prompt:\n",
    "\n",
    "```\"Given a session, load the metadata—specifically, the trials and units—into separate DataFrames.\"```"
   ]
  },
  {
   "cell_type": "code",
   "execution_count": null,
   "id": "791a2f7d",
   "metadata": {},
   "outputs": [],
   "source": []
  },
  {
   "cell_type": "markdown",
   "id": "1d8a4fc3",
   "metadata": {},
   "source": [
    "Discuss: Why does this prompt work well with GitHub Copilot but not as effectively in the ChatGPT UI?"
   ]
  },
  {
   "cell_type": "markdown",
   "id": "961bfee0",
   "metadata": {},
   "source": [
    "With Copilot, short and specific code-related instructions often lead to immediate and relevant completions, since it's optimized for in-context code generation. Let's test this difference by attempting a practical example: generating a function and then writing a test for it.\n"
   ]
  },
  {
   "cell_type": "markdown",
   "id": "8b28d1e9",
   "metadata": {},
   "source": [
    " \n",
    "We’ll start by providing only the function description and see if Copilot can infer and generate the correct implementation. Try the following prompt:\n",
    "\n",
    "```\"Generate a function called `make_psth` with the following behavior: The function should compute a Peri-Stimulus Time Histogram (PSTH).```\n",
    "\n",
    "```Parameters:```\n",
    "   - spike_times: array-like, timestamps of all spikes (in seconds)\n",
    "   - stim_times: array-like, timestamps of stimulus onsets (in seconds)\n",
    "   - pre_window: float, time before stimulus to include in the PSTH (seconds)\n",
    "   - post_window: float, time after stimulus to include in the PSTH (seconds)\n",
    "   - bin_size: float, width of each time bin (seconds)\n",
    "\n",
    "```Returns:```\n",
    "   - firing_rates: 2D NumPy array of firing rates (shape: trials × bins)\n",
    "   - bin_centers: 1D NumPy array of bin center times (relative to stimulus onset)\""
   ]
  },
  {
   "cell_type": "code",
   "execution_count": null,
   "id": "5c14eae6",
   "metadata": {},
   "outputs": [],
   "source": []
  },
  {
   "cell_type": "markdown",
   "id": "54624e04",
   "metadata": {},
   "source": [
    "How can we verify that this function works as intended?\n",
    "One way is to write a test to ensure that make_psth executes properly and returns meaningful output. Try the following prompt:\n",
    "\n",
    "```\"Generate a test to ensure the function `make_psth` runs correctly and returns meaningful results.\"```"
   ]
  },
  {
   "cell_type": "code",
   "execution_count": null,
   "id": "f76db30b",
   "metadata": {},
   "outputs": [],
   "source": []
  },
  {
   "cell_type": "markdown",
   "id": "037bc3c6",
   "metadata": {},
   "source": [
    "How do you know the test result is actually meaningful? Compare the result with a person sitting next to you. You should _always_ go back and verify the output yourself—never assume it's correct just because it runs.\n",
    "\n",
    "Alternatively, for smaller code blocks or quick autocompletions, you can use Copilot to assist with implementation."
   ]
  },
  {
   "cell_type": "markdown",
   "id": "7574ab9c",
   "metadata": {},
   "source": [
    "Exercise. Rewrite the function above using autocomplete. Make sure to check every line the Copilot generates for you. "
   ]
  },
  {
   "cell_type": "code",
   "execution_count": null,
   "id": "a66f33a3",
   "metadata": {},
   "outputs": [],
   "source": []
  }
 ],
 "metadata": {
  "kernelspec": {
   "display_name": "bio_modelling",
   "language": "python",
   "name": "python3"
  },
  "language_info": {
   "codemirror_mode": {
    "name": "ipython",
    "version": 3
   },
   "file_extension": ".py",
   "mimetype": "text/x-python",
   "name": "python",
   "nbconvert_exporter": "python",
   "pygments_lexer": "ipython3",
   "version": "3.11.12"
  }
 },
 "nbformat": 4,
 "nbformat_minor": 5
}
