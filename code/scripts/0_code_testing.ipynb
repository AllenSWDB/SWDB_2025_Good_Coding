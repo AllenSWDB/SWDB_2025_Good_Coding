{
 "cells": [
  {
   "cell_type": "markdown",
   "id": "ca303e094a515f35",
   "metadata": {},
   "source": [
    "## Code testing\n",
    "\n",
    "During the lecture, we learned about **raise** and **assert** statements. Now we're going to see how to use them in research code setting."
   ]
  },
  {
   "cell_type": "code",
   "execution_count": 10,
   "id": "67bbdbbcb977a789",
   "metadata": {
    "ExecuteTime": {
     "end_time": "2025-07-17T17:51:16.079621Z",
     "start_time": "2025-07-17T17:51:13.614196Z"
    }
   },
   "outputs": [],
   "source": [
    "# Data handling packages\n",
    "import numpy as np  \n",
    "import pandas as pd \n",
    "import pynwb  \n",
    "\n",
    "# Plotting libraries\n",
    "import matplotlib.pyplot as plt  \n",
    "\n",
    "# Set the data root according to OS\n",
    "import platform\n",
    "from pathlib import Path\n",
    "\n",
    "# Pandas display settings\n",
    "pd.set_option('display.max_columns', None)  # Ensures all columns are shown when printing DataFrames\n",
    "\n",
    "# Inline plotting for Jupyter Notebooks\n",
    "%matplotlib inline  "
   ]
  },
  {
   "cell_type": "markdown",
   "id": "842fbd2c88a34645",
   "metadata": {},
   "source": [
    "Let us consider loading in data from the Visual Behavior Neuropixels dataset we saw in a previous day. Specifically, let us load a single experimental session."
   ]
  },
  {
   "cell_type": "code",
   "execution_count": 11,
   "id": "4405358dd310a330",
   "metadata": {},
   "outputs": [],
   "source": [
    "platstring = platform.platform()\n",
    "\n",
    "if 'Darwin' in platstring:\n",
    "    # macOS \n",
    "    data_root = Path(\"/Volumes/Brain2025/\")\n",
    "elif 'Windows'  in platstring:\n",
    "    # Windows (replace with the drive letter of USB drive)\n",
    "    data_root = Path(\"E:/\")\n",
    "elif ('amzn' in platstring):\n",
    "    # then on CodeOcean\n",
    "    data_root = Path(\"/data/\")\n",
    "else:\n",
    "    # then your own linux platform\n",
    "    # EDIT location where you mounted hard drive\n",
    "    data_root = Path(\"/media/$USERNAME/Brain2025/\")\n",
    "\n",
    "# pick a session_id and get session data\n",
    "example_sessions = [1139846596, 1152811536, 1069461581 ]\n",
    "this_session = str(example_sessions[0])\n",
    "this_filename = f'ecephys_session_{this_session}.nwb'\n",
    "nwb_path = Path('visual-behavior-neuropixels', 'behavior_ecephys_sessions', this_session, this_filename)\n",
    "\n",
    "# access the session data with pynwb\n",
    "session = pynwb.NWBHDF5IO(data_root / nwb_path).read()"
   ]
  },
  {
   "cell_type": "markdown",
   "id": "77b5db357c2f001e",
   "metadata": {},
   "source": [
    "Let us load in the trial data and metadata about each recorded unit."
   ]
  },
  {
   "cell_type": "code",
   "execution_count": 12,
   "id": "591bf5c84385a610",
   "metadata": {},
   "outputs": [],
   "source": [
    "trials = session.trials.to_dataframe() \n",
    "units_table = session.units.to_dataframe()\n",
    "electrodes_table = session.electrodes.to_dataframe()\n",
    "units_table = units_table.join(electrodes_table, on = 'peak_channel_id')"
   ]
  },
  {
   "cell_type": "markdown",
   "id": "13e8e7bc2b76b477",
   "metadata": {},
   "source": [
    "In this metadata, we have important pieces of information such as the amplitude cutoff, inter-spike-interval (ISI) violations ratio, presence ratio, and activity drift of each recorded unit. Generally, we want to filter neurons by these quantities to find \"good\" neurons. For example, consider defining the following thresholds on these quantities below."
   ]
  },
  {
   "cell_type": "code",
   "execution_count": 13,
   "id": "5ee301c2681257ca",
   "metadata": {
    "ExecuteTime": {
     "end_time": "2025-07-17T17:59:05.034233Z",
     "start_time": "2025-07-17T17:59:05.029161Z"
    }
   },
   "outputs": [],
   "source": [
    "max_amplitude_cutoff = 0.1\n",
    "max_isi_violations = 0.5\n",
    "min_presence_ratio = 0.7"
   ]
  },
  {
   "cell_type": "markdown",
   "id": "0e9aabfd",
   "metadata": {},
   "source": [
    "When loading in the trial data for a specific neuron, we can check these quantities with if and print statements to make sure that our criteria are satisfied."
   ]
  },
  {
   "cell_type": "code",
   "execution_count": 14,
   "id": "330bb702",
   "metadata": {},
   "outputs": [
    {
     "name": "stdout",
     "output_type": "stream",
     "text": [
      "Unit amplitude cutoff is 0.5, must be <= 0.1\n"
     ]
    }
   ],
   "source": [
    "id_no = 0\n",
    "unit_amplitude_cutoff = units_table.iloc[id_no]['amplitude_cutoff']\n",
    "unit_isi_violations_ratio = units_table.iloc[id_no]['isi_violations']\n",
    "unit_presence_ratio = units_table.iloc[id_no]['presence_ratio']\n",
    "\n",
    "if not unit_amplitude_cutoff <= max_amplitude_cutoff:\n",
    "    print(f'Unit amplitude cutoff is {unit_amplitude_cutoff}, must be <= {max_amplitude_cutoff}')"
   ]
  },
  {
   "cell_type": "markdown",
   "id": "4459f43d-b191-4388-a5f6-67ba6fea2e18",
   "metadata": {},
   "source": [
    "<div style=\"border-left: 3px solid #000; padding: 1px; padding-left: 10px; background-color:#DFF0D8\">\n",
    "<h3>Exercise</h3>\n",
    "    \n",
    "Now it's your turn! Write the corresponding if-print statements for the ISI violations and presence ratio below.\n",
    "</div>"
   ]
  },
  {
   "cell_type": "markdown",
   "id": "a8053461-a80e-4c11-910b-3022c0c7473f",
   "metadata": {},
   "source": []
  },
  {
   "cell_type": "markdown",
   "id": "7d8f565845a79a8d",
   "metadata": {},
   "source": [
    "Alternatively, we can use assert statements instead."
   ]
  },
  {
   "cell_type": "code",
   "execution_count": 15,
   "id": "8f5c3499b872423a",
   "metadata": {},
   "outputs": [
    {
     "ename": "AssertionError",
     "evalue": "Unit amplitude cutoff is 0.5, must be <= 0.1",
     "output_type": "error",
     "traceback": [
      "\u001b[31m---------------------------------------------------------------------------\u001b[39m",
      "\u001b[31mAssertionError\u001b[39m                            Traceback (most recent call last)",
      "\u001b[36mCell\u001b[39m\u001b[36m \u001b[39m\u001b[32mIn[15]\u001b[39m\u001b[32m, line 6\u001b[39m\n\u001b[32m      3\u001b[39m unit_isi_violations = units_table.iloc[id_no][\u001b[33m'\u001b[39m\u001b[33misi_violations\u001b[39m\u001b[33m'\u001b[39m]\n\u001b[32m      4\u001b[39m unit_presence_ratio = units_table.iloc[id_no][\u001b[33m'\u001b[39m\u001b[33mpresence_ratio\u001b[39m\u001b[33m'\u001b[39m]\n\u001b[32m----> \u001b[39m\u001b[32m6\u001b[39m \u001b[38;5;28;01massert\u001b[39;00m unit_amplitude_cutoff <= max_amplitude_cutoff, \u001b[33mf\u001b[39m\u001b[33m'\u001b[39m\u001b[33mUnit amplitude cutoff is \u001b[39m\u001b[38;5;132;01m{\u001b[39;00munit_amplitude_cutoff\u001b[38;5;132;01m}\u001b[39;00m\u001b[33m, must be <= \u001b[39m\u001b[38;5;132;01m{\u001b[39;00mmax_amplitude_cutoff\u001b[38;5;132;01m}\u001b[39;00m\u001b[33m'\u001b[39m\n",
      "\u001b[31mAssertionError\u001b[39m: Unit amplitude cutoff is 0.5, must be <= 0.1"
     ]
    }
   ],
   "source": [
    "id_no = 0\n",
    "unit_amplitude_cutoff = units_table.iloc[id_no]['amplitude_cutoff']\n",
    "unit_isi_violations = units_table.iloc[id_no]['isi_violations']\n",
    "unit_presence_ratio = units_table.iloc[id_no]['presence_ratio']\n",
    "\n",
    "assert unit_amplitude_cutoff <= max_amplitude_cutoff, f'Unit amplitude cutoff is {unit_amplitude_cutoff}, must be <= {max_amplitude_cutoff}'"
   ]
  },
  {
   "cell_type": "markdown",
   "id": "cea2a0e4-5081-4998-ab03-f5f5d0a3651d",
   "metadata": {},
   "source": [
    "<div style=\"border-left: 3px solid #000; padding: 1px; padding-left: 10px; background-color:#DFF0D8\">\n",
    "<h3>Exercise</h3>\n",
    "    \n",
    "Like before, write the corresponding assert statements for the ISI violations and presence ratio below.\n",
    "</div>"
   ]
  },
  {
   "cell_type": "code",
   "execution_count": null,
   "id": "a0c684c6-3349-47c8-9ff7-6862067e493c",
   "metadata": {},
   "outputs": [],
   "source": []
  },
  {
   "cell_type": "markdown",
   "id": "df923707cc4c51ce",
   "metadata": {},
   "source": [
    "See how at least one of these critera were not satisfied and our code threw an AssertionError letting us know! Now what if we carefully filter our units for these quantities?"
   ]
  },
  {
   "cell_type": "code",
   "execution_count": 16,
   "id": "3b0850a1965d9f06",
   "metadata": {},
   "outputs": [],
   "source": [
    "units_table = units_table[\n",
    "    (units_table['amplitude_cutoff'] <= max_amplitude_cutoff) &\n",
    "    (units_table['isi_violations'] <= max_isi_violations) &\n",
    "    (units_table['presence_ratio'] >= min_presence_ratio)\n",
    "]"
   ]
  },
  {
   "cell_type": "markdown",
   "id": "1ed551d7c0c792e0",
   "metadata": {},
   "source": [
    "Now our code should not throw any AssertionErrors!"
   ]
  },
  {
   "cell_type": "code",
   "execution_count": 17,
   "id": "f351e16e46716f92",
   "metadata": {},
   "outputs": [],
   "source": [
    "id_no = 0\n",
    "unit_amplitude_cutoff = units_table.iloc[id_no]['amplitude_cutoff']\n",
    "unit_isi_violations = units_table.iloc[id_no]['isi_violations']\n",
    "unit_presence_ratio = units_table.iloc[id_no]['presence_ratio']\n",
    "\n",
    "assert unit_amplitude_cutoff <= max_amplitude_cutoff, f'Unit amplitude cutoff is {unit_amplitude_cutoff}, must be <= {max_amplitude_cutoff}'"
   ]
  },
  {
   "cell_type": "code",
   "execution_count": null,
   "id": "654cb746-d721-4c9c-b119-465070cd6a75",
   "metadata": {},
   "outputs": [],
   "source": []
  }
 ],
 "metadata": {
  "kernelspec": {
   "display_name": "Python 3 (ipykernel)",
   "language": "python",
   "name": "python3"
  },
  "language_info": {
   "codemirror_mode": {
    "name": "ipython",
    "version": 3
   },
   "file_extension": ".py",
   "mimetype": "text/x-python",
   "name": "python",
   "nbconvert_exporter": "python",
   "pygments_lexer": "ipython3",
   "version": "3.12.4"
  }
 },
 "nbformat": 4,
 "nbformat_minor": 5
}
