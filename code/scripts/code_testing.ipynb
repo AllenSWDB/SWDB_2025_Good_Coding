{
 "cells": [
  {
   "metadata": {},
   "cell_type": "markdown",
   "source": [
    "## Code testing\n",
    "\n",
    "During the lecture, we learned about **raise** and **assert** statements. Now we're going to see how to use them in research code setting."
   ],
   "id": "ca303e094a515f35"
  },
  {
   "metadata": {
    "ExecuteTime": {
     "end_time": "2025-07-17T17:51:16.079621Z",
     "start_time": "2025-07-17T17:51:13.614196Z"
    }
   },
   "cell_type": "code",
   "source": [
    "# Data handling packages\n",
    "import numpy as np  \n",
    "import pandas as pd \n",
    "import pynwb  \n",
    "\n",
    "# Plotting libraries\n",
    "import matplotlib.pyplot as plt  \n",
    "\n",
    "# Pandas display settings\n",
    "pd.set_option('display.max_columns', None)  # Ensures all columns are shown when printing DataFrames\n",
    "\n",
    "# Inline plotting for Jupyter Notebooks\n",
    "%matplotlib inline  "
   ],
   "id": "67bbdbbcb977a789",
   "outputs": [],
   "execution_count": null
  },
  {
   "metadata": {},
   "cell_type": "markdown",
   "source": "Let us consider loading in data from the Visual Behavior Neuropixels dataset we saw in a previous day. Specifically, let us load a single experimental session.",
   "id": "842fbd2c88a34645"
  },
  {
   "metadata": {},
   "cell_type": "code",
   "outputs": [],
   "execution_count": null,
   "source": [
    "# pick a session_id and get session data\n",
    "example_session_ids = ['664851_2023-11-15', '668755_2023-08-31', '674562_2023-10-03', '759434_2025-02-04', '713655_2024-08-09']\n",
    "\n",
    "session_id = example_session_ids[2]\n",
    "nwb_path = f'/root/capsule/data/{session_id}/{session_id}.nwb'\n",
    "\n",
    "# access the session data with pynwb\n",
    "session = pynwb.NWBHDF5IO(nwb_path).read()"
   ],
   "id": "4405358dd310a330"
  },
  {
   "metadata": {},
   "cell_type": "markdown",
   "source": "Let us load in the trial data and metadata about each recorded unit.",
   "id": "77b5db357c2f001e"
  },
  {
   "metadata": {},
   "cell_type": "code",
   "outputs": [],
   "execution_count": null,
   "source": [
    "trials = session.trials.to_dataframe() \n",
    "units_table = session.units.to_dataframe()"
   ],
   "id": "591bf5c84385a610"
  },
  {
   "metadata": {},
   "cell_type": "markdown",
   "source": "In this metadata, we have important pieces of information such as the amplitude cutoff, inter-spike-interval (ISI) violations ratio, presence ratio, and activity drift of each recorded unit. Generally, we want to filter neurons by these quantities to find \"good\" neurons. For example, consider defining the following thresholds on these quantities below.",
   "id": "13e8e7bc2b76b477"
  },
  {
   "metadata": {
    "ExecuteTime": {
     "end_time": "2025-07-17T17:59:05.034233Z",
     "start_time": "2025-07-17T17:59:05.029161Z"
    }
   },
   "cell_type": "code",
   "source": [
    "max_amplitude_cutoff = 0.1\n",
    "max_isi_violations_ratio = 0.5\n",
    "min_presence_ratio = 0.7\n",
    "min_activity_drift = 0.2"
   ],
   "id": "5ee301c2681257ca",
   "outputs": [],
   "execution_count": 2
  },
  {
   "metadata": {},
   "cell_type": "markdown",
   "source": "When loading in the trial data for a specific neuron, we can check these quantities with assert statements to make sure that our criteria are satisfied.",
   "id": "7d8f565845a79a8d"
  },
  {
   "metadata": {},
   "cell_type": "code",
   "outputs": [],
   "execution_count": null,
   "source": [
    "id_no = 0\n",
    "unit_id = units_table.iloc[id_no].unit_id\n",
    "spike_times = units_table.iloc[id_no].spike_times\n",
    "\n",
    "unit_amplitude_cutoff = units_table.iloc[id_no]['amplitude_cutoff']\n",
    "unit_isi_violations_ratio = units_table.iloc[id_no]['isi_violations_ratio']\n",
    "unit_presence_ratio = units_table.iloc[id_no]['presence_ratio']\n",
    "unit_activity_drift = units_table.iloc[id_no]['activity_drift']\n",
    "\n",
    "assert unit_amplitude_cutoff <= max_amplitude_cutoff, f'Unit amplitude cutoff is {unit_amplitude_cutoff}, must be <= {max_amplitude_cutoff}'\n",
    "assert unit_isi_violations_ratio <= max_isi_violations_ratio, f'ISI Violations ratio is {unit_isi_violations_ratio}, must be <= {max_isi_violations_ratio}'\n",
    "assert unit_presence_ratio >= min_presence_ratio, f'Presence ratio is {unit_presence_ratio}, must be >= {min_presence_ratio}'\n",
    "assert unit_activity_drift >= min_activity_drift, f'Activity drift is {unit_activity_drift}, must be >= {min_activity_drift}'"
   ],
   "id": "8f5c3499b872423a"
  },
  {
   "metadata": {},
   "cell_type": "markdown",
   "source": "See how at least one of these critera were not satisfied and our code threw an AssertionError letting us know! Now what if we carefully filter our units for these quantities?",
   "id": "df923707cc4c51ce"
  },
  {
   "metadata": {},
   "cell_type": "code",
   "outputs": [],
   "execution_count": null,
   "source": [
    "units_table = units_table[\n",
    "    (units_table['amplitude_cutoff'] <= 0.1) &\n",
    "    (units_table['isi_violations_ratio'] <= 0.5) &\n",
    "    (units_table['presence_ratio'] >= 0.7) &\n",
    "    (units_table['activity_drift'] >= 0.2)\n",
    "]"
   ],
   "id": "3b0850a1965d9f06"
  },
  {
   "metadata": {},
   "cell_type": "markdown",
   "source": "Now our code should not throw any AssertionErrors!",
   "id": "1ed551d7c0c792e0"
  },
  {
   "metadata": {},
   "cell_type": "code",
   "outputs": [],
   "execution_count": null,
   "source": [
    "id_no = 0\n",
    "unit_id = units_table.iloc[id_no].unit_id\n",
    "spike_times = units_table.iloc[id_no].spike_times\n",
    "\n",
    "unit_amplitude_cutoff = units_table.iloc[id_no]['amplitude_cutoff']\n",
    "unit_isi_violations_ratio = units_table.iloc[id_no]['isi_violations_ratio']\n",
    "unit_presence_ratio = units_table.iloc[id_no]['presence_ratio']\n",
    "unit_activity_drift = units_table.iloc[id_no]['activity_drift']\n",
    "\n",
    "assert unit_amplitude_cutoff <= max_amplitude_cutoff, f'Unit amplitude cutoff is {unit_amplitude_cutoff}, must be <= {max_amplitude_cutoff}'\n",
    "assert unit_isi_violations_ratio <= max_isi_violations_ratio, f'ISI Violations ratio is {unit_isi_violations_ratio}, must be <= {max_isi_violations_ratio}'\n",
    "assert unit_presence_ratio >= min_presence_ratio, f'Presence ratio is {unit_presence_ratio}, must be >= {min_presence_ratio}'\n",
    "assert unit_activity_drift >= min_activity_drift, f'Activity drift is {unit_activity_drift}, must be >= {min_activity_drift}'"
   ],
   "id": "f351e16e46716f92"
  }
 ],
 "metadata": {
  "kernelspec": {
   "display_name": "Python 3",
   "language": "python",
   "name": "python3"
  },
  "language_info": {
   "codemirror_mode": {
    "name": "ipython",
    "version": 2
   },
   "file_extension": ".py",
   "mimetype": "text/x-python",
   "name": "python",
   "nbconvert_exporter": "python",
   "pygments_lexer": "ipython2",
   "version": "2.7.6"
  }
 },
 "nbformat": 4,
 "nbformat_minor": 5
}
