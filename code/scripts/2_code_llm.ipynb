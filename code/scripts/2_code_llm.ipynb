{
 "cells": [
  {
   "cell_type": "markdown",
   "id": "e18e7d21",
   "metadata": {},
   "source": [
    "# LLM for coding"
   ]
  },
  {
   "cell_type": "markdown",
   "id": "ca9d1f7c",
   "metadata": {},
   "source": [
    "In this mini tutorial we will demonstrate how LLM agents can be used effectively for coding.\n",
    "\n",
    "We will use the previous notebook \"loading_example\" to see if with a few prompts LLM can reproduce our code and write tests for it "
   ]
  },
  {
   "cell_type": "code",
   "execution_count": 1,
   "id": "56594a2f",
   "metadata": {},
   "outputs": [],
   "source": [
    "# Data handling packages\n",
    "import numpy as np  \n",
    "import pandas as pd \n",
    "import pynwb  \n",
    "\n",
    "# Plotting libraries\n",
    "import matplotlib.pyplot as plt  \n",
    "\n",
    "# Pandas display settings\n",
    "pd.set_option('display.max_columns', None)  # Ensures all columns are shown when printing DataFrames\n",
    "\n",
    "# Inline plotting for Jupyter Notebooks\n",
    "%matplotlib inline  "
   ]
  },
  {
   "cell_type": "code",
   "execution_count": null,
   "id": "b4eff5db",
   "metadata": {},
   "outputs": [],
   "source": [
    "# pick a session_id and get session data\n",
    "example_session_ids = ['664851_2023-11-15', '668755_2023-08-31', '674562_2023-10-03', '759434_2025-02-04', '713655_2024-08-09']\n",
    "\n",
    "session_id = example_session_ids[2]\n",
    "nwb_path = f'/root/capsule/data/{session_id}/{session_id}.nwb'\n",
    "\n",
    "# access the session data with pynwb\n",
    "session = pynwb.NWBHDF5IO(nwb_path).read()"
   ]
  },
  {
   "cell_type": "markdown",
   "id": "bbe31014",
   "metadata": {},
   "source": [
    "\n",
    "### If you are using ChatGPT UI"
   ]
  },
  {
   "cell_type": "markdown",
   "id": "eb8babea",
   "metadata": {},
   "source": [
    "Let us start with a simple example. Following the logic of the previous notebook, we would like to create dataframes of the session metadata. \n",
    "\n",
    "Try the following prompt: \n",
    "\n",
    "```\"Given a session, load the matadata, specifically trials and units into respective dataframes.\"``` "
   ]
  },
  {
   "cell_type": "code",
   "execution_count": null,
   "id": "3dbec431",
   "metadata": {},
   "outputs": [],
   "source": []
  },
  {
   "cell_type": "markdown",
   "id": "e3b41df3",
   "metadata": {},
   "source": [
    "Before accepting the result, evaluate what went wrong. Did we give too little information? "
   ]
  },
  {
   "cell_type": "markdown",
   "id": "e6874273",
   "metadata": {},
   "source": [
    "Try this prompt: \n",
    "\n",
    "```\"You are a neuroscientist and you are helping me to work on data processing from a recent experiment. The experimental data is organized in several sessions. The way to load a session is as follows: session = pynwb.NWBHDF5IO(nwb_path).read(). I need to get metadata from this session (specifically, trials and units) and I need to convert them to independent dataframes. Write a python script to do so.\"```"
   ]
  },
  {
   "cell_type": "code",
   "execution_count": null,
   "id": "777856eb",
   "metadata": {},
   "outputs": [],
   "source": []
  },
  {
   "cell_type": "markdown",
   "id": "af4aeca3",
   "metadata": {},
   "source": [
    "Note how much more specific the prompt is. You can improve on it. Try this: \n",
    "\n",
    "```\"You are a neuroscientist and you are helping me to work on data processing from a recent experiment. The experimental data is organized in several sessions. The way to load a session is as follows: session = pynwb.NWBHDF5IO(nwb_path).read(). I need to get metadata from this session (specifically, trials and units) and I need to convert them to independent dataframes with names 'trails' and 'units_table'. Write a python script to do so. Keep in mind the session is already loaded. Make sure the script is short. Do not save the dataframes to CSV format. Your response should only contain script and nothing else.\"```"
   ]
  },
  {
   "cell_type": "code",
   "execution_count": null,
   "id": "84848fa1",
   "metadata": {},
   "outputs": [],
   "source": []
  },
  {
   "cell_type": "markdown",
   "id": "b0633aca",
   "metadata": {},
   "source": [
    "Discuss: Can you think of a shorter prompt to produce the same or similar result? "
   ]
  },
  {
   "cell_type": "markdown",
   "id": "3072d535",
   "metadata": {},
   "source": []
  },
  {
   "cell_type": "markdown",
   "id": "efe4fad4",
   "metadata": {},
   "source": []
  },
  {
   "cell_type": "markdown",
   "id": "962f8c98",
   "metadata": {},
   "source": [
    "\n",
    "### If you are using Copilot"
   ]
  },
  {
   "cell_type": "markdown",
   "id": "11e3dfb5",
   "metadata": {},
   "source": [
    "Let us start with a simple example. Following the logic of the previous notebook, we would like to create dataframes of the session metadata. \n",
    "\n",
    "Try the following prompt: \n",
    "\n",
    "```\"Given a session, load the matadata, specifically trials and units into respective dataframes.\"``` "
   ]
  },
  {
   "cell_type": "code",
   "execution_count": null,
   "id": "791a2f7d",
   "metadata": {},
   "outputs": [],
   "source": []
  },
  {
   "cell_type": "markdown",
   "id": "1d8a4fc3",
   "metadata": {},
   "source": [
    "Discuss: why does this prompt work with copilot but not ChatGPT UI? "
   ]
  },
  {
   "cell_type": "markdown",
   "id": "961bfee0",
   "metadata": {},
   "source": [
    "With copilot, we can simply give short instructions to get results. Let us test this on a function and create a test for it"
   ]
  },
  {
   "cell_type": "markdown",
   "id": "8b28d1e9",
   "metadata": {},
   "source": [
    "First, let us give the heading of the function and see if copilot can reproduce the result. Try this prompt: \n",
    "\n",
    "\"Generate a function 'make_psth' with the following properties. \n",
    " The function should generate a Peri-Stimulus Time Histogram (PSTH).\n",
    "    \n",
    "    Parameters:\n",
    "    - spike_times: array-like, timestamps of all spikes (in seconds)\n",
    "    - stim_times: array-like, timestamps of stimulus onsets (in seconds)\n",
    "    - pre_window: float, time before stimulus to include in PSTH (seconds)\n",
    "    - post_window: float, time after stimulus to include in PSTH (seconds)\n",
    "    - bin_size: float, width of each time bin (seconds)\n",
    "    \n",
    "    Returns:\n",
    "    - firing_rates: 2D numpy array of firing rates (trials x bins)\n",
    "    - bin_centers: 1D numpy array of bin center times (relative to stimulus onset)\""
   ]
  },
  {
   "cell_type": "code",
   "execution_count": null,
   "id": "5c14eae6",
   "metadata": {},
   "outputs": [],
   "source": []
  },
  {
   "cell_type": "markdown",
   "id": "54624e04",
   "metadata": {},
   "source": [
    "How to check whether this function makes sense or not? We can generate a test for it. Try this prompt: \n",
    "\n",
    "```\"Generate a test to make sure the function 'generate_psth' runs and gives meaningful results.\"```"
   ]
  },
  {
   "cell_type": "code",
   "execution_count": null,
   "id": "f76db30b",
   "metadata": {},
   "outputs": [],
   "source": []
  },
  {
   "cell_type": "markdown",
   "id": "037bc3c6",
   "metadata": {},
   "source": [
    "Check the output: does it make sense? Compare it with a person sitting next to you. \n",
    "How do you know this test gives a meaningful result? You _always_ have to go back and check yourself.\n",
    "\n",
    "Alternatively, you can use copilot for smaller chunks of code or autocomplete."
   ]
  },
  {
   "cell_type": "markdown",
   "id": "7574ab9c",
   "metadata": {},
   "source": [
    "Exercise. Rewrite the function above using autocomplete. Make sure to check every line copilot generates for you. "
   ]
  },
  {
   "cell_type": "code",
   "execution_count": null,
   "id": "a66f33a3",
   "metadata": {},
   "outputs": [],
   "source": []
  }
 ],
 "metadata": {
  "kernelspec": {
   "display_name": "bio_modelling",
   "language": "python",
   "name": "python3"
  },
  "language_info": {
   "codemirror_mode": {
    "name": "ipython",
    "version": 3
   },
   "file_extension": ".py",
   "mimetype": "text/x-python",
   "name": "python",
   "nbconvert_exporter": "python",
   "pygments_lexer": "ipython3",
   "version": "3.11.12"
  }
 },
 "nbformat": 4,
 "nbformat_minor": 5
}
